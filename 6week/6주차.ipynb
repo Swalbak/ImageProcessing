{
 "cells": [
  {
   "cell_type": "code",
   "execution_count": null,
   "metadata": {},
   "outputs": [],
   "source": [
    "def get_LoG_filter(fsize, sigma=1):\n",
    "    y, x = np.mgrid()"
   ]
  }
 ],
 "metadata": {
  "language_info": {
   "name": "python"
  },
  "orig_nbformat": 4
 },
 "nbformat": 4,
 "nbformat_minor": 2
}
