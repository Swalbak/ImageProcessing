{
 "cells": [
  {
   "cell_type": "code",
   "execution_count": 1,
   "metadata": {},
   "outputs": [],
   "source": [
    "import cv2\n",
    "import numpy as np"
   ]
  },
  {
   "cell_type": "code",
   "execution_count": 2,
   "metadata": {},
   "outputs": [],
   "source": [
    "def double_thresholding(src):\n",
    "    dst = src.copy()\n",
    "\n",
    "    # dst => 0 ~ 255\n",
    "    dst -= dst.min()\n",
    "    dst /= dst.max()\n",
    "    dst *= 255\n",
    "    dst = dst.astype(np.uint8)\n",
    "    (h, w) = dst.shape\n",
    "\n",
    "    high_threshold_value, _ = cv2.threshold(dst, 0, 255, cv2.THRESH_OTSU)\n",
    "\n",
    "    print('highthreshold')\n",
    "    print(high_threshold_value)\n",
    "    low_threshold_value = high_threshold_value * 0.4\n",
    "\n",
    "    for row in range(h):\n",
    "        for col in range(w):\n",
    "            if dst[row, col] >= high_threshold_value:\n",
    "                dst[row, col] = 255\n",
    "            elif dst[row, col] < low_threshold_value:\n",
    "                dst[row, col] = 0\n",
    "            else:\n",
    "                #######################################\n",
    "                # TODO                                #\n",
    "                # High 값 보다 작고 Low 값 보다 큰 경우   #\n",
    "                #######################################\n",
    "                dst[row, col] = 128\n",
    "    \n",
    "    dx = [-1, 0, 1, -1, 0, 1, -1, 0, 1]\n",
    "    dy = [-1, -1, -1, 0, 0, 0, 1, 1, 1]\n",
    "\n",
    "    for row in range(h):\n",
    "        for col in range(w):\n",
    "            if dst[row, col] == 255 or dst[row, col] == 0:\n",
    "                continue\n",
    "\n",
    "            s = [(row, col)]\n",
    "            visited = []\n",
    "            isStrong = False\n",
    "\n",
    "            while len(s) > 0:\n",
    "                sh, sw = s.pop()\n",
    "                visited.append((sh, sw))\n",
    "\n",
    "                for i in range(9):\n",
    "                    if sw+dx[i] < 0 or sw+dx[i] >= w or sh+dy[i] < 0 or sh+dy[i] >= h:\n",
    "                        continue\n",
    "\n",
    "                    if dst[sh+dy[i], sw+dx[i]] == 255:\n",
    "                        isStrong = True\n",
    "                    elif dst[sh+dy[i], sw+dx[i]] == 128:\n",
    "                        s.append((sh+dy[i], sw+dx[i]))\n",
    "            \n",
    "            for sh, sw in visited:\n",
    "                dst[sh, sw] = isStrong * 255\n",
    "\n",
    "    return dst"
   ]
  },
  {
   "cell_type": "code",
   "execution_count": 3,
   "metadata": {},
   "outputs": [
    {
     "ename": "UFuncTypeError",
     "evalue": "Cannot cast ufunc 'divide' output from dtype('float64') to dtype('uint8') with casting rule 'same_kind'",
     "output_type": "error",
     "traceback": [
      "\u001b[1;31m---------------------------------------------------------------------------\u001b[0m",
      "\u001b[1;31mUFuncTypeError\u001b[0m                            Traceback (most recent call last)",
      "\u001b[1;32md:\\coding\\git_repositories\\ImageProcessing\\6week\\6주차.ipynb Cell 3\u001b[0m in \u001b[0;36m2\n\u001b[0;32m      <a href='vscode-notebook-cell:/d%3A/coding/git_repositories/ImageProcessing/6week/6%EC%A3%BC%EC%B0%A8.ipynb#W3sZmlsZQ%3D%3D?line=0'>1</a>\u001b[0m img \u001b[39m=\u001b[39m cv2\u001b[39m.\u001b[39mimread(\u001b[39m\"\u001b[39m\u001b[39mLena.png\u001b[39m\u001b[39m\"\u001b[39m, cv2\u001b[39m.\u001b[39mIMREAD_GRAYSCALE)\n\u001b[1;32m----> <a href='vscode-notebook-cell:/d%3A/coding/git_repositories/ImageProcessing/6week/6%EC%A3%BC%EC%B0%A8.ipynb#W3sZmlsZQ%3D%3D?line=1'>2</a>\u001b[0m dst \u001b[39m=\u001b[39m double_thresholding(img)\n\u001b[0;32m      <a href='vscode-notebook-cell:/d%3A/coding/git_repositories/ImageProcessing/6week/6%EC%A3%BC%EC%B0%A8.ipynb#W3sZmlsZQ%3D%3D?line=2'>3</a>\u001b[0m cv2\u001b[39m.\u001b[39mimshow(\u001b[39m\"\u001b[39m\u001b[39mdst\u001b[39m\u001b[39m\"\u001b[39m, dst)\n\u001b[0;32m      <a href='vscode-notebook-cell:/d%3A/coding/git_repositories/ImageProcessing/6week/6%EC%A3%BC%EC%B0%A8.ipynb#W3sZmlsZQ%3D%3D?line=3'>4</a>\u001b[0m cv2\u001b[39m.\u001b[39mwaitKey()\n",
      "\u001b[1;32md:\\coding\\git_repositories\\ImageProcessing\\6week\\6주차.ipynb Cell 3\u001b[0m in \u001b[0;36m6\n\u001b[0;32m      <a href='vscode-notebook-cell:/d%3A/coding/git_repositories/ImageProcessing/6week/6%EC%A3%BC%EC%B0%A8.ipynb#W3sZmlsZQ%3D%3D?line=3'>4</a>\u001b[0m \u001b[39m# dst => 0 ~ 255\u001b[39;00m\n\u001b[0;32m      <a href='vscode-notebook-cell:/d%3A/coding/git_repositories/ImageProcessing/6week/6%EC%A3%BC%EC%B0%A8.ipynb#W3sZmlsZQ%3D%3D?line=4'>5</a>\u001b[0m dst \u001b[39m-\u001b[39m\u001b[39m=\u001b[39m dst\u001b[39m.\u001b[39mmin()\n\u001b[1;32m----> <a href='vscode-notebook-cell:/d%3A/coding/git_repositories/ImageProcessing/6week/6%EC%A3%BC%EC%B0%A8.ipynb#W3sZmlsZQ%3D%3D?line=5'>6</a>\u001b[0m dst \u001b[39m/\u001b[39m\u001b[39m=\u001b[39m dst\u001b[39m.\u001b[39mmax()\n\u001b[0;32m      <a href='vscode-notebook-cell:/d%3A/coding/git_repositories/ImageProcessing/6week/6%EC%A3%BC%EC%B0%A8.ipynb#W3sZmlsZQ%3D%3D?line=6'>7</a>\u001b[0m dst \u001b[39m*\u001b[39m\u001b[39m=\u001b[39m \u001b[39m255\u001b[39m\n\u001b[0;32m      <a href='vscode-notebook-cell:/d%3A/coding/git_repositories/ImageProcessing/6week/6%EC%A3%BC%EC%B0%A8.ipynb#W3sZmlsZQ%3D%3D?line=7'>8</a>\u001b[0m dst \u001b[39m=\u001b[39m dst\u001b[39m.\u001b[39mastype(np\u001b[39m.\u001b[39muint8)\n",
      "\u001b[1;31mUFuncTypeError\u001b[0m: Cannot cast ufunc 'divide' output from dtype('float64') to dtype('uint8') with casting rule 'same_kind'"
     ]
    }
   ],
   "source": [
    "img = cv2.imread(\"Lena.png\", cv2.IMREAD_GRAYSCALE)\n",
    "dst = double_thresholding(img)\n",
    "cv2.imshow(\"dst\", dst)\n",
    "cv2.waitKey()\n",
    "cv2.destroyAllWindows()"
   ]
  }
 ],
 "metadata": {
  "kernelspec": {
   "display_name": "Python 3",
   "language": "python",
   "name": "python3"
  },
  "language_info": {
   "codemirror_mode": {
    "name": "ipython",
    "version": 3
   },
   "file_extension": ".py",
   "mimetype": "text/x-python",
   "name": "python",
   "nbconvert_exporter": "python",
   "pygments_lexer": "ipython3",
   "version": "3.9.13"
  },
  "orig_nbformat": 4
 },
 "nbformat": 4,
 "nbformat_minor": 2
}
