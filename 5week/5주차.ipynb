{
 "cells": [
  {
   "cell_type": "code",
   "execution_count": 1,
   "metadata": {},
   "outputs": [],
   "source": [
    "import cv2\n",
    "import numpy as np"
   ]
  },
  {
   "cell_type": "code",
   "execution_count": 2,
   "metadata": {},
   "outputs": [
    {
     "data": {
      "text/plain": [
       "array([0, 2, 0])"
      ]
     },
     "execution_count": 2,
     "metadata": {},
     "output_type": "execute_result"
    }
   ],
   "source": [
    "a = np.array([-1, 2, -4])\n",
    "np.clip(a, 0, 255)"
   ]
  },
  {
   "cell_type": "code",
   "execution_count": 3,
   "metadata": {},
   "outputs": [
    {
     "data": {
      "text/plain": [
       "array([255,   2, 252], dtype=uint8)"
      ]
     },
     "execution_count": 3,
     "metadata": {},
     "output_type": "execute_result"
    }
   ],
   "source": [
    "a.astype(np.uint8)"
   ]
  },
  {
   "cell_type": "code",
   "execution_count": 4,
   "metadata": {},
   "outputs": [],
   "source": [
    "def get_sobel():\n",
    "    # 전치를 위해 2차원으로 생성\n",
    "    der = np.array([[-1, 0, 1]])\n",
    "    blur = np.array([[1, 2, 1]])\n",
    "\n",
    "    # dot곱: 순서가 중요함(row벡터가 앞에 오면 의도하지 않은 결과가 나옴)\n",
    "\n",
    "    # vertical\n",
    "    x = np.dot(blur.T, der)\n",
    "\n",
    "    # horizontal\n",
    "    y = np.dot(der.T, blur)\n",
    "\n",
    "    return x, y"
   ]
  },
  {
   "cell_type": "code",
   "execution_count": 5,
   "metadata": {},
   "outputs": [
    {
     "data": {
      "text/plain": [
       "(array([[-1,  0,  1],\n",
       "        [-2,  0,  2],\n",
       "        [-1,  0,  1]]),\n",
       " array([[-1, -2, -1],\n",
       "        [ 0,  0,  0],\n",
       "        [ 1,  2,  1]]))"
      ]
     },
     "execution_count": 5,
     "metadata": {},
     "output_type": "execute_result"
    }
   ],
   "source": [
    "x, y = get_sobel()\n",
    "x, y"
   ]
  },
  {
   "cell_type": "code",
   "execution_count": 6,
   "metadata": {},
   "outputs": [],
   "source": [
    "from my_filtering import my_filtering\n",
    "# 여기에서는 이전 my_filtering 그대로 사용\n",
    "# clip 과정이 선행되지 않는다면 uint8로 바꿀 때 음수값이 overflow되어 이상해짐\n",
    "\n",
    "src = cv2.imread('building.jpg', cv2.IMREAD_GRAYSCALE)\n",
    "\n",
    "dst_x = my_filtering(src, x)\n",
    "dst_y = my_filtering(src, y)\n",
    "\n",
    "cv2.imshow('dst_x', dst_x)\n",
    "cv2.imshow('dst_y', dst_y)\n",
    "cv2.imshow('original', src)\n",
    "cv2.waitKey()\n",
    "cv2.destroyAllWindows()"
   ]
  },
  {
   "cell_type": "code",
   "execution_count": 7,
   "metadata": {},
   "outputs": [],
   "source": [
    "# float32: 1이상의 값은 모두 흰색\n",
    "# uint8: 255이상의 값은 모두 흰색\n",
    "src = np.zeros((300, 300))\n",
    "src[100: 110, :] = 2\n",
    "src[200: 210, :] = 300\n",
    "\n",
    "cv2.imshow('src', src)\n",
    "cv2.waitKey()\n",
    "cv2.destroyAllWindows()"
   ]
  },
  {
   "cell_type": "code",
   "execution_count": 8,
   "metadata": {},
   "outputs": [],
   "source": [
    "# float32: 0이하의 값은 모두 검은색\n",
    "# uint8: 0이하의 값은 모두 검은색\n",
    "src = np.ones((300, 300))\n",
    "src[100: 110, :] = 0\n",
    "src[200: 210, :] = -300\n",
    "\n",
    "cv2.imshow('src', src)\n",
    "cv2.waitKey()\n",
    "cv2.destroyAllWindows()"
   ]
  },
  {
   "cell_type": "code",
   "execution_count": 9,
   "metadata": {},
   "outputs": [],
   "source": [
    "# 음수 픽셀에 대해 모두 0으로 인식하는 문제 발견\n",
    "# my_filtering 수정 - clip 과정, uint8로 바꾸는 과정을 없애야 음수 픽셀이 나타남\n",
    "\n",
    "x, y = get_sobel()\n",
    "src = cv2.imread('edge_detection_img.png', cv2.IMREAD_GRAYSCALE)\n",
    "dst_x = my_filtering(src, x)\n",
    "dst_y = my_filtering(src, y)\n",
    "\n",
    "cv2.imshow('dst_x', dst_x)\n",
    "cv2.imshow('dst_y', dst_y)\n",
    "cv2.waitKey()\n",
    "cv2.destroyAllWindows()"
   ]
  },
  {
   "cell_type": "code",
   "execution_count": 11,
   "metadata": {},
   "outputs": [],
   "source": [
    "x, y = get_sobel()\n",
    "src = cv2.imread('edge_detection_img.png', cv2.IMREAD_GRAYSCALE)\n",
    "dst_x = my_filtering(src, x)\n",
    "dst_y = my_filtering(src, y)\n",
    "\n",
    "# 음수 픽셀에 절대값을 취하여 양수로\n",
    "dst_x = np.abs(dst_x)\n",
    "dst_y = np.abs(dst_y)\n",
    "\n",
    "dst = dst_x + dst_y\n",
    "\n",
    "cv2.imshow('dst_x', dst_x)\n",
    "cv2.imshow('dst_y', dst_y)\n",
    "cv2.imshow('dst', dst)\n",
    "cv2.waitKey()\n",
    "cv2.destroyAllWindows()"
   ]
  },
  {
   "cell_type": "code",
   "execution_count": 13,
   "metadata": {},
   "outputs": [],
   "source": [
    "x, y = get_sobel()\n",
    "src = cv2.imread('edge_detection_img.png', cv2.IMREAD_GRAYSCALE)\n",
    "dst_x = my_filtering(src, x)\n",
    "dst_y = my_filtering(src, y)\n",
    "\n",
    "# normalization 적용 [0, 1]\n",
    "dst_x_norm = (dst_x - dst_x.min()) / (dst_x - dst_x.min()).max()\n",
    "dst_y_norm = (dst_y - dst_y.min()) / (dst_y - dst_y.min()).max()\n",
    "\n",
    "cv2.imshow('dst_x_norm', dst_x_norm)\n",
    "cv2.imshow('dst_y_norm', dst_y_norm)\n",
    "cv2.waitKey()\n",
    "cv2.destroyAllWindows()"
   ]
  },
  {
   "cell_type": "code",
   "execution_count": 14,
   "metadata": {},
   "outputs": [],
   "source": [
    "x, y = get_sobel()\n",
    "src = cv2.imread('building.jpg', cv2.IMREAD_GRAYSCALE)\n",
    "dst_x = my_filtering(src, x)\n",
    "dst_y = my_filtering(src, y)\n",
    "\n",
    "# 음수 픽셀에 절대값을 취하여 양수로\n",
    "dst_x = np.abs(dst_x)\n",
    "dst_y = np.abs(dst_y)\n",
    "\n",
    "dst = dst_x + dst_y\n",
    "\n",
    "cv2.imshow('dst_x', dst_x)\n",
    "cv2.imshow('dst_y', dst_y)\n",
    "cv2.imshow('dst', dst)\n",
    "cv2.waitKey()\n",
    "cv2.destroyAllWindows()"
   ]
  },
  {
   "cell_type": "code",
   "execution_count": 16,
   "metadata": {},
   "outputs": [],
   "source": [
    "import cv2\n",
    "import numpy as np\n",
    "\n",
    "# library add\n",
    "import os, sys\n",
    "from my_filtering import my_filtering\n",
    "\n",
    "\n",
    "def get_DoG_filter(fsize, sigma=1):\n",
    "    ###################################################\n",
    "    # TODO                                            #\n",
    "    # DoG mask 완성                                    #\n",
    "    ###################################################\n",
    "    y, x = np.mgrid[-(fsize//2):(fsize//2)+1, -(fsize//2):(fsize//2)+1]\n",
    "\n",
    "    DoG_x = (-x / sigma ** 2) * np.exp(-(x ** 2 + y ** 2) / (2 * sigma**2))\n",
    "    DoG_y = (-y / sigma ** 2) * np.exp(-(x ** 2 + y ** 2) / (2 * sigma**2))\n",
    "\n",
    "    return DoG_x, DoG_y"
   ]
  },
  {
   "cell_type": "code",
   "execution_count": 24,
   "metadata": {},
   "outputs": [],
   "source": [
    "src = cv2.imread('Lena.png', cv2.IMREAD_GRAYSCALE)\n",
    "DoG_x, DoG_y = get_DoG_filter(fsize=3, sigma=1)\n",
    "\n",
    "###################################################\n",
    "# TODO                                            #\n",
    "# DoG mask sigma값 조절해서 mask 만들기              #\n",
    "###################################################\n",
    "# DoG_x, DoG_y filter 확인\n",
    "x, y = get_DoG_filter(fsize=256, sigma=100) \n",
    "x = ((x - x.min()) / (x - x.min()).max() * 255).astype(np.uint8)\n",
    "y = ((y - y.min()) / (y - y.min()).max() * 255).astype(np.uint8)\n",
    "\n",
    "dst_x = np.abs(my_filtering(src, DoG_x))\n",
    "dst_y = np.abs(my_filtering(src, DoG_y))\n",
    "\n",
    "###################################################\n",
    "# TODO                                            #\n",
    "# dst_x, dst_y 를 사용하여 magnitude 계산            #\n",
    "###################################################\n",
    "dst = np.sqrt((dst_x ** 2 + dst_y ** 2))\n",
    "\n",
    "\"\"\"\n",
    "한글이나 영어로 작성하기\n",
    "ID, name(학번 이름): 2022012340, Hon Gil Dong    \n",
    "department(학과): computer science\n",
    "\"\"\"\n",
    "\n",
    "cv2.imshow('DoG_x filter - 2022012340 Hong Gil Dong', x)\n",
    "cv2.imshow('DoG_y filter - 2022012340 Hong Gil Dong', y)\n",
    "cv2.imshow('dst_x - 2022012340 Hong Gil Dong', dst_x/255)\n",
    "cv2.imshow('dst_y - 2022012340 Hong Gil Dong', dst_y/255)\n",
    "cv2.imshow('dst - 2022012340 Hong Gil Dong', dst/255)\n",
    "cv2.waitKey()\n",
    "cv2.destroyAllWindows()"
   ]
  },
  {
   "cell_type": "code",
   "execution_count": null,
   "metadata": {},
   "outputs": [],
   "source": []
  }
 ],
 "metadata": {
  "kernelspec": {
   "display_name": "Python 3",
   "language": "python",
   "name": "python3"
  },
  "language_info": {
   "codemirror_mode": {
    "name": "ipython",
    "version": 3
   },
   "file_extension": ".py",
   "mimetype": "text/x-python",
   "name": "python",
   "nbconvert_exporter": "python",
   "pygments_lexer": "ipython3",
   "version": "3.9.13"
  },
  "orig_nbformat": 4
 },
 "nbformat": 4,
 "nbformat_minor": 2
}
